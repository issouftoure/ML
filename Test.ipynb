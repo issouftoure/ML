{
  "nbformat": 4,
  "nbformat_minor": 0,
  "metadata": {
    "colab": {
      "name": "Test.ipynb",
      "provenance": [],
      "collapsed_sections": [],
      "mount_file_id": "1RL1HMqtywLpVJAT1NApb5x4lmRSKUCtT",
      "authorship_tag": "ABX9TyONH0kp7wyq/j1SGG2Vmu3Q",
      "include_colab_link": true
    },
    "kernelspec": {
      "name": "python3",
      "display_name": "Python 3"
    },
    "language_info": {
      "name": "python"
    }
  },
  "cells": [
    {
      "cell_type": "markdown",
      "metadata": {
        "id": "view-in-github",
        "colab_type": "text"
      },
      "source": [
        "<a href=\"https://colab.research.google.com/github/issouftoure/ML/blob/main/Test.ipynb\" target=\"_parent\"><img src=\"https://colab.research.google.com/assets/colab-badge.svg\" alt=\"Open In Colab\"/></a>"
      ]
    },
    {
      "cell_type": "markdown",
      "source": [
        "# Prise en main des bonnes pratique sur colab"
      ],
      "metadata": {
        "id": "stPGjnqUc3Pk"
      }
    },
    {
      "cell_type": "markdown",
      "source": [
        "Dans ce tutorial, il sera question de voir en detail les bonnes pratiques liées jupyter notebook"
      ],
      "metadata": {
        "id": "xPuucKzJdGWq"
      }
    },
    {
      "cell_type": "markdown",
      "source": [
        "1. Structurez son notebook\n",
        "1. Refactorisez et externalisez son code en module\n",
        "1. Adoptez la reproductibilite"
      ],
      "metadata": {
        "id": "4sUTWw4jdbIq"
      }
    },
    {
      "cell_type": "markdown",
      "source": [
        "### Imports"
      ],
      "metadata": {
        "id": "jfmMBq50ecCP"
      }
    },
    {
      "cell_type": "code",
      "source": [
        "import numpy as np\n",
        "import pandas as pd\n",
        "import matplotlib.pyplot as plt\n",
        "import sys\n",
        "import os"
      ],
      "metadata": {
        "id": "2x2Ru6mKeTeQ"
      },
      "execution_count": null,
      "outputs": []
    },
    {
      "cell_type": "code",
      "source": [
        "# import module from drivre\n",
        "py_file_location = \"/content/drive/MyDrive/Colab Notebooks/Modules\"\n",
        "sys.path.append(os.path.abspath(py_file_location))"
      ],
      "metadata": {
        "id": "bCs6U4RPPyzx"
      },
      "execution_count": null,
      "outputs": []
    },
    {
      "cell_type": "code",
      "source": [
        "from maths import *"
      ],
      "metadata": {
        "id": "OXd4SnBZtMSv"
      },
      "execution_count": null,
      "outputs": []
    },
    {
      "cell_type": "code",
      "source": [
        "# Create a folder and import module\n",
        "location = \"/content/module\"\n",
        "sys.path.append(os.path.abspath(location))"
      ],
      "metadata": {
        "id": "55E-bgGRPX7_"
      },
      "execution_count": null,
      "outputs": []
    },
    {
      "cell_type": "markdown",
      "source": [
        "## 1. Structurez son notebook"
      ],
      "metadata": {
        "id": "NWWglPGhfZPe"
      }
    },
    {
      "cell_type": "markdown",
      "source": [
        "* Donnez un titre au notebook\n",
        "* Faire un descriptif succinct de l'objectif recherché\n",
        "* Faire des paragraphes\n",
        "* Donnez des noms explicite aux variables et aux fonctions\n",
        "* Documentez son code"
      ],
      "metadata": {
        "id": "_4vyHcRnfo6_"
      }
    },
    {
      "cell_type": "markdown",
      "source": [
        "## 2. Refactorisez et externalisez le code en module"
      ],
      "metadata": {
        "id": "yKlKSxPEgnbm"
      }
    },
    {
      "cell_type": "code",
      "source": [
        "fibonaci(5),factoriel(5),premier(5)\n"
      ],
      "metadata": {
        "id": "P1MwoSNIg27z",
        "colab": {
          "base_uri": "https://localhost:8080/"
        },
        "outputId": "080d24ae-983e-4889-a419-983b0a359fe1"
      },
      "execution_count": null,
      "outputs": [
        {
          "output_type": "execute_result",
          "data": {
            "text/plain": [
              "(5, 120, 'Est premier')"
            ]
          },
          "metadata": {},
          "execution_count": 4
        }
      ]
    },
    {
      "cell_type": "markdown",
      "source": [
        "## 3. Adopter la reproductibilité"
      ],
      "metadata": {
        "id": "dtEWd7nDvjJr"
      }
    },
    {
      "cell_type": "code",
      "source": [
        "np.random.seed(1234)\n",
        "np.random.random(10)"
      ],
      "metadata": {
        "colab": {
          "base_uri": "https://localhost:8080/"
        },
        "id": "pOOBweOKwsEL",
        "outputId": "0b8b9ad2-41ff-48e2-8d82-0737194d911d"
      },
      "execution_count": null,
      "outputs": [
        {
          "output_type": "execute_result",
          "data": {
            "text/plain": [
              "array([0.19151945, 0.62210877, 0.43772774, 0.78535858, 0.77997581,\n",
              "       0.27259261, 0.27646426, 0.80187218, 0.95813935, 0.87593263])"
            ]
          },
          "metadata": {},
          "execution_count": 47
        }
      ]
    },
    {
      "cell_type": "markdown",
      "source": [
        "* Versionning"
      ],
      "metadata": {
        "id": "BBZllIYyIqJ3"
      }
    }
  ]
}